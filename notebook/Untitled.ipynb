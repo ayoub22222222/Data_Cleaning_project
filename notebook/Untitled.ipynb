{
 "cells": [
  {
   "cell_type": "code",
   "execution_count": 14,
   "id": "f6306bdc-4623-43c8-9874-5b372dff0383",
   "metadata": {},
   "outputs": [],
   "source": [
    "import pandas as pd \n",
    "import re"
   ]
  },
  {
   "cell_type": "markdown",
   "id": "afc7c7a5-4319-400d-aefe-028f5abd2b77",
   "metadata": {},
   "source": [
    "# Cleaning Data using Pipeline"
   ]
  },
  {
   "cell_type": "markdown",
   "id": "c3de5a5a-bc66-4550-878e-d0ddce31a906",
   "metadata": {},
   "source": [
    "### Step 1- create a function that will load our data "
   ]
  },
  {
   "cell_type": "code",
   "execution_count": 31,
   "id": "6764ea34-1aae-428b-8fbf-31546b7f5cf5",
   "metadata": {},
   "outputs": [],
   "source": [
    "def load_data():\n",
    "    df = pd.read_csv('/home/hp/fifa21_raw_data.csv', low_memory=False)\n",
    "    return df"
   ]
  },
  {
   "cell_type": "markdown",
   "id": "fc9140da-4d0f-4b05-9612-66d543494074",
   "metadata": {},
   "source": [
    "### Step 2- create a function that will clean the data "
   ]
  },
  {
   "cell_type": "code",
   "execution_count": null,
   "id": "5fc5b2be-9eef-40b7-ad8b-7f29f91df859",
   "metadata": {},
   "outputs": [],
   "source": [
    "def clean_data(data):\n",
    "    # Convert string values into numerical values\n",
    "    data['Height'] = data['Height'].apply(lambda x: x.replace(\"'\", \"\").replace('\"', \"\")).astype(float)\n",
    "    data['Weight'] = data['Weight'].apply(lambda x: x.replace(\"lbs\", \"\")).astype(int) \n",
    "    # convert columns to datetime\n",
    "    data['Joined'] = pd.to_datetime(data['Joined'], errors='coerce')\n",
    "    # convert Wage and Value int \n",
    "    def convert_value(val):\n",
    "        val = val.replace(\"€\", \"\").strip()\n",
    "        if \"M\" in val:\n",
    "            val = float(val.replace(\"M\", \"\")) * 1_000_000\n",
    "        elif \"K\" in val:\n",
    "            val = float(val.replace(\"K\", \"\")) * 1_000\n",
    "        return float(val)\n",
    "    data['Value'] = data['Value'].apply(convert_value)\n",
    "    data['Wage'] = [int(x.replace(\"€\", \"\").replace(\"K\", \"\")) * 1_000 for x in data['Wage']]\n",
    "    data['Team & Contract'] = data['Team & Contract'].apply(lambda x: x.replace(\"\\n\", \" \").strip())\n",
    "    data['Hits'] = data['Hits'].apply(lambda x: x.replace(\"K\", \"\").strip()).astype(float)\n",
    "    # convert release and clause columns \n",
    "    data['Release Clause'] = [ float(x.replace('€', '').replace('K', '')) * 1_000 if \"K\" in x else\n",
    "                              float(x.replace('€', '').replace('M', '')) * 1_000_000 if \"M\" in x else 0\n",
    "                              for x in data['Release Clause']]\n",
    "    # remove empty space from this columns\n",
    "    data['Team & Contract'] = data['Team & Contract'].apply(lambda x: x.replace('\\n', '').strip())\n",
    "    # separate a the Team and contract columns\n",
    "    # 1- conract columns\n",
    "    data['Conract'] = [ re.search(r'\\d+\\s~\\s\\d+', i).group() if re.search(r'\\d+\\s~\\s\\d+', i) else ''\n",
    "    for i in data['Team & Contract']]\n",
    "    # Team columns\n",
    "    data['Team'] = [ re.search(r'^[^\\d]+', i).group() if re.search(r'^[^\\d]+', i) else ''\n",
    "    for i in data['Team & Contract']]\n",
    "    return data "
   ]
  },
  {
   "cell_type": "markdown",
   "id": "861de547-312e-42b9-8fe0-1582cdb6e6cc",
   "metadata": {},
   "source": [
    "### Step 3- save the data "
   ]
  },
  {
   "cell_type": "code",
   "execution_count": 41,
   "id": "d1dc9b0c-6455-42f2-91ed-2ce00af22caa",
   "metadata": {},
   "outputs": [],
   "source": [
    "# save cleaned data\n",
    "def save_cleaned_dt(data):\n",
    "    data.to_csv('fifa_cleaned_data.csv', index=False)"
   ]
  },
  {
   "cell_type": "markdown",
   "id": "672cd09b-24d7-446e-953c-203703d7cd20",
   "metadata": {},
   "source": [
    "### Step 4- Run the Pipeline"
   ]
  },
  {
   "cell_type": "code",
   "execution_count": 42,
   "id": "a4375ca6-017c-4dc3-8b5d-d025811d5121",
   "metadata": {},
   "outputs": [],
   "source": [
    "# run pipeline\n",
    "\n",
    "raw_data = load_data()\n",
    "cleaned_data = clean_data(raw_data)\n",
    "save_cleaned_dt(cleaned_data)\n"
   ]
  }
 ],
 "metadata": {
  "kernelspec": {
   "display_name": "Python 3 (ipykernel)",
   "language": "python",
   "name": "python3"
  },
  "language_info": {
   "codemirror_mode": {
    "name": "ipython",
    "version": 3
   },
   "file_extension": ".py",
   "mimetype": "text/x-python",
   "name": "python",
   "nbconvert_exporter": "python",
   "pygments_lexer": "ipython3",
   "version": "3.8.10"
  }
 },
 "nbformat": 4,
 "nbformat_minor": 5
}
