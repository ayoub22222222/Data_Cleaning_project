{
 "cells": [
  {
   "cell_type": "code",
   "execution_count": 7,
   "id": "f6306bdc-4623-43c8-9874-5b372dff0383",
   "metadata": {},
   "outputs": [],
   "source": [
    "import pandas as pd "
   ]
  },
  {
   "cell_type": "code",
   "execution_count": 2,
   "id": "4ebba088-bafd-43d2-9add-bbc28798929c",
   "metadata": {},
   "outputs": [
    {
     "name": "stderr",
     "output_type": "stream",
     "text": [
      "/tmp/ipykernel_10537/2697469780.py:1: DtypeWarning: Columns (76) have mixed types. Specify dtype option on import or set low_memory=False.\n",
      "  df = pd.read_csv('/home/hp/fifa21_raw_data.csv')\n"
     ]
    }
   ],
   "source": [
    "# df = pd.read_csv('/home/hp/fifa21_raw_data.csv')"
   ]
  },
  {
   "cell_type": "code",
   "execution_count": 68,
   "id": "6764ea34-1aae-428b-8fbf-31546b7f5cf5",
   "metadata": {},
   "outputs": [],
   "source": [
    "def load_data():\n",
    "    df = pd.read_csv('/home/hp/fifa21_raw_data.csv', low_memory=False)\n",
    "    return df"
   ]
  },
  {
   "cell_type": "code",
   "execution_count": 69,
   "id": "3c8cb2f8-0261-4963-94cc-2f4f710b9cfe",
   "metadata": {},
   "outputs": [
    {
     "data": {
      "text/plain": [
       "0        €138.4M\n",
       "1         €75.9M\n",
       "2        €159.4M\n",
       "3          €161M\n",
       "4        €166.5M\n",
       "          ...   \n",
       "18974       €57K\n",
       "18975      €165K\n",
       "18976       €70K\n",
       "18977      €165K\n",
       "18978      €167K\n",
       "Name: Release Clause, Length: 18979, dtype: object"
      ]
     },
     "execution_count": 69,
     "metadata": {},
     "output_type": "execute_result"
    }
   ],
   "source": [
    "# try to understand our data sets to at columns \n",
    "load_data()['Release Clause']"
   ]
  },
  {
   "cell_type": "code",
   "execution_count": 109,
   "id": "4c6edbab-e347-403c-9271-694a916ecf97",
   "metadata": {},
   "outputs": [],
   "source": [
    "def clean_data(data):\n",
    "    # Convert string values into numerical values\n",
    "    data['Height'] = data['Height'].apply(lambda x: x.replace(\"'\", \"\").replace('\"', \"\")).astype(float)\n",
    "    data['Weight'] = data['Weight'].apply(lambda x: x.replace(\"lbs\", \"\")).astype(int) \n",
    "    # convert columns to datetime\n",
    "    data['Joined'] = pd.to_datetime(data['Joined'], errors='coerce')\n",
    "    # convert Wage and Value int \n",
    "    def convert_value(val):\n",
    "        val = val.replace(\"€\", \"\").strip()\n",
    "        if \"M\" in val:\n",
    "            val = float(val.replace(\"M\", \"\")) * 1_000_000\n",
    "        elif \"K\" in val:\n",
    "            val = float(val.replace(\"K\", \"\")) * 1_000\n",
    "        return float(val)\n",
    "    data['Value'] = data['Value'].apply(convert_value)\n",
    "    data['Wage'] = [int(x.replace(\"€\", \"\").replace(\"K\", \"\")) * 1_000 for x in data['Wage']]\n",
    "    data['Team & Contract'] = data['Team & Contract'].apply(lambda x: x.replace(\"\\n\", \" \").strip())\n",
    "    data['Hits'] = data['Hits'].apply(lambda x: x.replace(\"K\", \"\").strip()).astype(float)\n",
    "    # convert release and clause columns \n",
    "    data['Release Clause'] = [ float(x.replace('€', '').replace('K', '')) * 1_000 if \"K\" in x else\n",
    "                              float(x.replace('€', '').replace('M', '')) * 1_000_000 if \"M\" in x else 0\n",
    "                              for x in data['Release Clause']]\n",
    "    return data "
   ]
  },
  {
   "cell_type": "code",
   "execution_count": 110,
   "id": "a4375ca6-017c-4dc3-8b5d-d025811d5121",
   "metadata": {},
   "outputs": [],
   "source": [
    "# run pipeline\n",
    "\n",
    "raw_data = load_data()\n",
    "claned_data = clean_data(raw_data)"
   ]
  },
  {
   "cell_type": "code",
   "execution_count": 111,
   "id": "50cba084-5c17-4c0c-a6ff-32902dfe970f",
   "metadata": {},
   "outputs": [
    {
     "data": {
      "text/plain": [
       "0        372.0\n",
       "1        344.0\n",
       "2         86.0\n",
       "3        163.0\n",
       "4        273.0\n",
       "         ...  \n",
       "18974      2.0\n",
       "18975      3.0\n",
       "18976      3.0\n",
       "18977      5.0\n",
       "18978      2.0\n",
       "Name: Hits, Length: 18979, dtype: float64"
      ]
     },
     "execution_count": 111,
     "metadata": {},
     "output_type": "execute_result"
    }
   ],
   "source": [
    "claned_data['Hits']"
   ]
  },
  {
   "cell_type": "code",
   "execution_count": 42,
   "id": "b6cc2b9a-77c7-4844-a0ed-a5a3dd3eb5d0",
   "metadata": {},
   "outputs": [
    {
     "name": "stdout",
     "output_type": "stream",
     "text": [
      "True\n"
     ]
    }
   ],
   "source": []
  }
 ],
 "metadata": {
  "kernelspec": {
   "display_name": "Python 3 (ipykernel)",
   "language": "python",
   "name": "python3"
  },
  "language_info": {
   "codemirror_mode": {
    "name": "ipython",
    "version": 3
   },
   "file_extension": ".py",
   "mimetype": "text/x-python",
   "name": "python",
   "nbconvert_exporter": "python",
   "pygments_lexer": "ipython3",
   "version": "3.8.10"
  }
 },
 "nbformat": 4,
 "nbformat_minor": 5
}
