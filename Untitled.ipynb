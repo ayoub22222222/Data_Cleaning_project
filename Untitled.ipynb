{
 "cells": [
  {
   "cell_type": "markdown",
   "id": "07a44cc6-ab04-4222-836b-cc08ba5c6c23",
   "metadata": {},
   "source": [
    "## Kaggle API"
   ]
  },
  {
   "cell_type": "code",
   "execution_count": 1,
   "id": "5064fd20-ff0f-4e98-90d1-bd64328bfb70",
   "metadata": {},
   "outputs": [],
   "source": [
    "import kaggle\n",
    "kaggle.api.authenticate()"
   ]
  },
  {
   "cell_type": "code",
   "execution_count": 7,
   "id": "f792236f-f67e-4f88-a16a-f6bf3e10d196",
   "metadata": {},
   "outputs": [
    {
     "name": "stdout",
     "output_type": "stream",
     "text": [
      "Dataset URL: https://www.kaggle.com/datasets/yagunnersya/fifa-21-messy-raw-dataset-for-cleaning-exploring\n"
     ]
    }
   ],
   "source": [
    "kaggle.api.dataset_download_files('yagunnersya/fifa-21-messy-raw-dataset-for-cleaning-exploring', path=\"/home/hp\", unzip=True)"
   ]
  },
  {
   "cell_type": "code",
   "execution_count": 124,
   "id": "d4192770-c0fc-4b7c-9cfd-5071ede28370",
   "metadata": {},
   "outputs": [],
   "source": [
    "import pandas as pd \n",
    "pd.set_option('display.max_columns', None)"
   ]
  },
  {
   "cell_type": "code",
   "execution_count": 125,
   "id": "ce7e2228-551c-4ff7-9ef3-211513aa58f6",
   "metadata": {},
   "outputs": [
    {
     "name": "stderr",
     "output_type": "stream",
     "text": [
      "/tmp/ipykernel_30325/2697469780.py:1: DtypeWarning: Columns (76) have mixed types. Specify dtype option on import or set low_memory=False.\n",
      "  df = pd.read_csv('/home/hp/fifa21_raw_data.csv')\n"
     ]
    }
   ],
   "source": [
    "df = pd.read_csv('/home/hp/fifa21_raw_data.csv')"
   ]
  },
  {
   "cell_type": "code",
   "execution_count": 126,
   "id": "6e23568c-ec2d-44cd-aca9-7da54f0e0dc2",
   "metadata": {},
   "outputs": [
    {
     "data": {
      "text/plain": [
       "0     5'7\"\n",
       "1     6'2\"\n",
       "2     6'2\"\n",
       "3    5'11\"\n",
       "4     5'9\"\n",
       "5     6'0\"\n",
       "6    5'10\"\n",
       "7     6'3\"\n",
       "8     5'9\"\n",
       "9     5'9\"\n",
       "Name: Height, dtype: object"
      ]
     },
     "execution_count": 126,
     "metadata": {},
     "output_type": "execute_result"
    }
   ],
   "source": [
    "df['Height'].head(10)"
   ]
  },
  {
   "cell_type": "code",
   "execution_count": 127,
   "id": "cd22d205-ca5c-48c8-bf6b-9f13f3b88a08",
   "metadata": {},
   "outputs": [
    {
     "name": "stdout",
     "output_type": "stream",
     "text": [
      "<class 'pandas.core.frame.DataFrame'>\n",
      "RangeIndex: 18979 entries, 0 to 18978\n",
      "Data columns (total 2 columns):\n",
      " #   Column  Non-Null Count  Dtype \n",
      "---  ------  --------------  ----- \n",
      " 0   Height  18979 non-null  object\n",
      " 1   Weight  18979 non-null  object\n",
      "dtypes: object(2)\n",
      "memory usage: 296.7+ KB\n"
     ]
    }
   ],
   "source": [
    "# we notice that the Height and the weight columns is object data type \n",
    "df[['Height', 'Weight']].info()"
   ]
  },
  {
   "cell_type": "code",
   "execution_count": 128,
   "id": "bc2a8d76-347f-41aa-96c5-7ecc9ae94ef7",
   "metadata": {},
   "outputs": [
    {
     "data": {
      "text/plain": [
       "0        False\n",
       "1        False\n",
       "2        False\n",
       "3        False\n",
       "4        False\n",
       "         ...  \n",
       "18974    False\n",
       "18975    False\n",
       "18976    False\n",
       "18977    False\n",
       "18978    False\n",
       "Length: 18979, dtype: bool"
      ]
     },
     "execution_count": 128,
     "metadata": {},
     "output_type": "execute_result"
    }
   ],
   "source": [
    "# pd.DataFrame(df[['Height', 'Weight']])\n",
    "# check if there is a duplicated value \n",
    "df.duplicated()"
   ]
  },
  {
   "cell_type": "code",
   "execution_count": 120,
   "id": "57a006c2-4646-4b44-aae6-c5569ea84066",
   "metadata": {},
   "outputs": [
    {
     "name": "stdout",
     "output_type": "stream",
     "text": [
      "<class 'pandas.core.frame.DataFrame'>\n",
      "RangeIndex: 18979 entries, 0 to 18978\n",
      "Data columns (total 1 columns):\n",
      " #   Column  Non-Null Count  Dtype \n",
      "---  ------  --------------  ----- \n",
      " 0   Height  18979 non-null  object\n",
      "dtypes: object(1)\n",
      "memory usage: 148.4+ KB\n"
     ]
    }
   ],
   "source": [
    "# check the data type of each columns and try to covert them into the right data type if there is a misstyping \n",
    "\n",
    "df[['Height']].info()"
   ]
  },
  {
   "cell_type": "code",
   "execution_count": 130,
   "id": "a1f59457-d386-4b26-87ab-4f96c46abeff",
   "metadata": {},
   "outputs": [
    {
     "data": {
      "text/html": [
       "<div>\n",
       "<style scoped>\n",
       "    .dataframe tbody tr th:only-of-type {\n",
       "        vertical-align: middle;\n",
       "    }\n",
       "\n",
       "    .dataframe tbody tr th {\n",
       "        vertical-align: top;\n",
       "    }\n",
       "\n",
       "    .dataframe thead th {\n",
       "        text-align: right;\n",
       "    }\n",
       "</style>\n",
       "<table border=\"1\" class=\"dataframe\">\n",
       "  <thead>\n",
       "    <tr style=\"text-align: right;\">\n",
       "      <th></th>\n",
       "      <th>Height</th>\n",
       "      <th>Weight</th>\n",
       "    </tr>\n",
       "  </thead>\n",
       "  <tbody>\n",
       "    <tr>\n",
       "      <th>0</th>\n",
       "      <td>5'7\"</td>\n",
       "      <td>159lbs</td>\n",
       "    </tr>\n",
       "    <tr>\n",
       "      <th>1</th>\n",
       "      <td>6'2\"</td>\n",
       "      <td>183lbs</td>\n",
       "    </tr>\n",
       "    <tr>\n",
       "      <th>2</th>\n",
       "      <td>6'2\"</td>\n",
       "      <td>192lbs</td>\n",
       "    </tr>\n",
       "    <tr>\n",
       "      <th>3</th>\n",
       "      <td>5'11\"</td>\n",
       "      <td>154lbs</td>\n",
       "    </tr>\n",
       "    <tr>\n",
       "      <th>4</th>\n",
       "      <td>5'9\"</td>\n",
       "      <td>150lbs</td>\n",
       "    </tr>\n",
       "    <tr>\n",
       "      <th>5</th>\n",
       "      <td>6'0\"</td>\n",
       "      <td>176lbs</td>\n",
       "    </tr>\n",
       "    <tr>\n",
       "      <th>6</th>\n",
       "      <td>5'10\"</td>\n",
       "      <td>161lbs</td>\n",
       "    </tr>\n",
       "    <tr>\n",
       "      <th>7</th>\n",
       "      <td>6'3\"</td>\n",
       "      <td>201lbs</td>\n",
       "    </tr>\n",
       "    <tr>\n",
       "      <th>8</th>\n",
       "      <td>5'9\"</td>\n",
       "      <td>157lbs</td>\n",
       "    </tr>\n",
       "    <tr>\n",
       "      <th>9</th>\n",
       "      <td>5'9\"</td>\n",
       "      <td>152lbs</td>\n",
       "    </tr>\n",
       "  </tbody>\n",
       "</table>\n",
       "</div>"
      ],
      "text/plain": [
       "  Height  Weight\n",
       "0   5'7\"  159lbs\n",
       "1   6'2\"  183lbs\n",
       "2   6'2\"  192lbs\n",
       "3  5'11\"  154lbs\n",
       "4   5'9\"  150lbs\n",
       "5   6'0\"  176lbs\n",
       "6  5'10\"  161lbs\n",
       "7   6'3\"  201lbs\n",
       "8   5'9\"  157lbs\n",
       "9   5'9\"  152lbs"
      ]
     },
     "execution_count": 130,
     "metadata": {},
     "output_type": "execute_result"
    }
   ],
   "source": [
    "df[['Height', 'Weight']].head(10)"
   ]
  },
  {
   "cell_type": "code",
   "execution_count": 131,
   "id": "9b7392d0-d9e0-4ac7-9e95-102706241699",
   "metadata": {},
   "outputs": [],
   "source": [
    "# # transform Height columns into float data types \n",
    "# for i in df['Height']:\n",
    "#     df['Height'] = i.replace(\"'\", \".\").replace('\"', \"\")\n",
    "df['Height'] = [i.replace(\"'\", \".\").replace('\"', \"\") for i in df['Height']]"
   ]
  },
  {
   "cell_type": "code",
   "execution_count": 132,
   "id": "84084adb-c7af-4d4e-8c7d-564494db2ee8",
   "metadata": {},
   "outputs": [
    {
     "data": {
      "text/html": [
       "<div>\n",
       "<style scoped>\n",
       "    .dataframe tbody tr th:only-of-type {\n",
       "        vertical-align: middle;\n",
       "    }\n",
       "\n",
       "    .dataframe tbody tr th {\n",
       "        vertical-align: top;\n",
       "    }\n",
       "\n",
       "    .dataframe thead th {\n",
       "        text-align: right;\n",
       "    }\n",
       "</style>\n",
       "<table border=\"1\" class=\"dataframe\">\n",
       "  <thead>\n",
       "    <tr style=\"text-align: right;\">\n",
       "      <th></th>\n",
       "      <th>Height</th>\n",
       "    </tr>\n",
       "  </thead>\n",
       "  <tbody>\n",
       "    <tr>\n",
       "      <th>0</th>\n",
       "      <td>5.7</td>\n",
       "    </tr>\n",
       "    <tr>\n",
       "      <th>1</th>\n",
       "      <td>6.2</td>\n",
       "    </tr>\n",
       "    <tr>\n",
       "      <th>2</th>\n",
       "      <td>6.2</td>\n",
       "    </tr>\n",
       "    <tr>\n",
       "      <th>3</th>\n",
       "      <td>5.11</td>\n",
       "    </tr>\n",
       "    <tr>\n",
       "      <th>4</th>\n",
       "      <td>5.9</td>\n",
       "    </tr>\n",
       "    <tr>\n",
       "      <th>...</th>\n",
       "      <td>...</td>\n",
       "    </tr>\n",
       "    <tr>\n",
       "      <th>18974</th>\n",
       "      <td>5.10</td>\n",
       "    </tr>\n",
       "    <tr>\n",
       "      <th>18975</th>\n",
       "      <td>5.7</td>\n",
       "    </tr>\n",
       "    <tr>\n",
       "      <th>18976</th>\n",
       "      <td>5.10</td>\n",
       "    </tr>\n",
       "    <tr>\n",
       "      <th>18977</th>\n",
       "      <td>5.9</td>\n",
       "    </tr>\n",
       "    <tr>\n",
       "      <th>18978</th>\n",
       "      <td>5.9</td>\n",
       "    </tr>\n",
       "  </tbody>\n",
       "</table>\n",
       "<p>18979 rows × 1 columns</p>\n",
       "</div>"
      ],
      "text/plain": [
       "      Height\n",
       "0        5.7\n",
       "1        6.2\n",
       "2        6.2\n",
       "3       5.11\n",
       "4        5.9\n",
       "...      ...\n",
       "18974   5.10\n",
       "18975    5.7\n",
       "18976   5.10\n",
       "18977    5.9\n",
       "18978    5.9\n",
       "\n",
       "[18979 rows x 1 columns]"
      ]
     },
     "execution_count": 132,
     "metadata": {},
     "output_type": "execute_result"
    }
   ],
   "source": [
    "# check if we acheive the right results\n",
    "df[[\"Height\"]]"
   ]
  },
  {
   "cell_type": "code",
   "execution_count": 133,
   "id": "fc17329c-c715-479e-9ddd-24eeb2b505b4",
   "metadata": {},
   "outputs": [],
   "source": [
    "df['Height'] = df['Height'].astype(float)"
   ]
  },
  {
   "cell_type": "code",
   "execution_count": 134,
   "id": "545d10ba-7a1f-45cb-a6b7-b76551d39ea5",
   "metadata": {},
   "outputs": [
    {
     "data": {
      "text/plain": [
       "0        159lbs\n",
       "1        183lbs\n",
       "2        192lbs\n",
       "3        154lbs\n",
       "4        150lbs\n",
       "          ...  \n",
       "18974    154lbs\n",
       "18975    128lbs\n",
       "18976    146lbs\n",
       "18977    143lbs\n",
       "18978    150lbs\n",
       "Name: Weight, Length: 18979, dtype: object"
      ]
     },
     "execution_count": 134,
     "metadata": {},
     "output_type": "execute_result"
    }
   ],
   "source": [
    "df['Weight']"
   ]
  },
  {
   "cell_type": "code",
   "execution_count": 135,
   "id": "89cbe9a2-027c-4f0c-b82f-df7d7ac6e5ff",
   "metadata": {},
   "outputs": [],
   "source": [
    "# repace the Weight columns with right data types \n",
    "df['Weight'] = df['Weight'].str.replace(\"lbs\", \"\").astype(int)"
   ]
  },
  {
   "cell_type": "code",
   "execution_count": 136,
   "id": "d0561d6c-ee92-40c6-9fe3-4c876d0039ab",
   "metadata": {},
   "outputs": [
    {
     "data": {
      "text/html": [
       "<div>\n",
       "<style scoped>\n",
       "    .dataframe tbody tr th:only-of-type {\n",
       "        vertical-align: middle;\n",
       "    }\n",
       "\n",
       "    .dataframe tbody tr th {\n",
       "        vertical-align: top;\n",
       "    }\n",
       "\n",
       "    .dataframe thead th {\n",
       "        text-align: right;\n",
       "    }\n",
       "</style>\n",
       "<table border=\"1\" class=\"dataframe\">\n",
       "  <thead>\n",
       "    <tr style=\"text-align: right;\">\n",
       "      <th></th>\n",
       "      <th>Height</th>\n",
       "      <th>Weight</th>\n",
       "    </tr>\n",
       "  </thead>\n",
       "  <tbody>\n",
       "    <tr>\n",
       "      <th>0</th>\n",
       "      <td>5.70</td>\n",
       "      <td>159</td>\n",
       "    </tr>\n",
       "    <tr>\n",
       "      <th>1</th>\n",
       "      <td>6.20</td>\n",
       "      <td>183</td>\n",
       "    </tr>\n",
       "    <tr>\n",
       "      <th>2</th>\n",
       "      <td>6.20</td>\n",
       "      <td>192</td>\n",
       "    </tr>\n",
       "    <tr>\n",
       "      <th>3</th>\n",
       "      <td>5.11</td>\n",
       "      <td>154</td>\n",
       "    </tr>\n",
       "    <tr>\n",
       "      <th>4</th>\n",
       "      <td>5.90</td>\n",
       "      <td>150</td>\n",
       "    </tr>\n",
       "    <tr>\n",
       "      <th>...</th>\n",
       "      <td>...</td>\n",
       "      <td>...</td>\n",
       "    </tr>\n",
       "    <tr>\n",
       "      <th>18974</th>\n",
       "      <td>5.10</td>\n",
       "      <td>154</td>\n",
       "    </tr>\n",
       "    <tr>\n",
       "      <th>18975</th>\n",
       "      <td>5.70</td>\n",
       "      <td>128</td>\n",
       "    </tr>\n",
       "    <tr>\n",
       "      <th>18976</th>\n",
       "      <td>5.10</td>\n",
       "      <td>146</td>\n",
       "    </tr>\n",
       "    <tr>\n",
       "      <th>18977</th>\n",
       "      <td>5.90</td>\n",
       "      <td>143</td>\n",
       "    </tr>\n",
       "    <tr>\n",
       "      <th>18978</th>\n",
       "      <td>5.90</td>\n",
       "      <td>150</td>\n",
       "    </tr>\n",
       "  </tbody>\n",
       "</table>\n",
       "<p>18979 rows × 2 columns</p>\n",
       "</div>"
      ],
      "text/plain": [
       "       Height  Weight\n",
       "0        5.70     159\n",
       "1        6.20     183\n",
       "2        6.20     192\n",
       "3        5.11     154\n",
       "4        5.90     150\n",
       "...       ...     ...\n",
       "18974    5.10     154\n",
       "18975    5.70     128\n",
       "18976    5.10     146\n",
       "18977    5.90     143\n",
       "18978    5.90     150\n",
       "\n",
       "[18979 rows x 2 columns]"
      ]
     },
     "execution_count": 136,
     "metadata": {},
     "output_type": "execute_result"
    }
   ],
   "source": [
    "df[['Height', 'Weight']]"
   ]
  },
  {
   "cell_type": "code",
   "execution_count": 137,
   "id": "72a54ad4-d232-462f-a82c-caff0904300a",
   "metadata": {},
   "outputs": [
    {
     "name": "stdout",
     "output_type": "stream",
     "text": [
      "<class 'pandas.core.frame.DataFrame'>\n",
      "RangeIndex: 18979 entries, 0 to 18978\n",
      "Data columns (total 1 columns):\n",
      " #   Column  Non-Null Count  Dtype\n",
      "---  ------  --------------  -----\n",
      " 0   Weight  18979 non-null  int64\n",
      "dtypes: int64(1)\n",
      "memory usage: 148.4 KB\n"
     ]
    }
   ],
   "source": [
    "# check if its the proper data type \n",
    "df[['Weight']].info()"
   ]
  },
  {
   "cell_type": "code",
   "execution_count": 138,
   "id": "f8e01718-8163-4a42-8131-a8660557362e",
   "metadata": {},
   "outputs": [
    {
     "name": "stdout",
     "output_type": "stream",
     "text": [
      "<class 'pandas.core.frame.DataFrame'>\n",
      "RangeIndex: 18979 entries, 0 to 18978\n",
      "Data columns (total 77 columns):\n",
      " #   Column            Non-Null Count  Dtype  \n",
      "---  ------            --------------  -----  \n",
      " 0   photoUrl          18979 non-null  object \n",
      " 1   LongName          18979 non-null  object \n",
      " 2   playerUrl         18979 non-null  object \n",
      " 3   Nationality       18979 non-null  object \n",
      " 4   Positions         18979 non-null  object \n",
      " 5   Name              18979 non-null  object \n",
      " 6   Age               18979 non-null  int64  \n",
      " 7   ↓OVA              18979 non-null  int64  \n",
      " 8   POT               18979 non-null  int64  \n",
      " 9   Team & Contract   18979 non-null  object \n",
      " 10  ID                18979 non-null  int64  \n",
      " 11  Height            18979 non-null  float64\n",
      " 12  Weight            18979 non-null  int64  \n",
      " 13  foot              18979 non-null  object \n",
      " 14  BOV               18979 non-null  int64  \n",
      " 15  BP                18979 non-null  object \n",
      " 16  Growth            18979 non-null  int64  \n",
      " 17  Joined            18979 non-null  object \n",
      " 18  Loan Date End     1013 non-null   object \n",
      " 19  Value             18979 non-null  object \n",
      " 20  Wage              18979 non-null  object \n",
      " 21  Release Clause    18979 non-null  object \n",
      " 22  Attacking         18979 non-null  int64  \n",
      " 23  Crossing          18979 non-null  int64  \n",
      " 24  Finishing         18979 non-null  int64  \n",
      " 25  Heading Accuracy  18979 non-null  int64  \n",
      " 26  Short Passing     18979 non-null  int64  \n",
      " 27  Volleys           18979 non-null  int64  \n",
      " 28  Skill             18979 non-null  int64  \n",
      " 29  Dribbling         18979 non-null  int64  \n",
      " 30  Curve             18979 non-null  int64  \n",
      " 31  FK Accuracy       18979 non-null  int64  \n",
      " 32  Long Passing      18979 non-null  int64  \n",
      " 33  Ball Control      18979 non-null  int64  \n",
      " 34  Movement          18979 non-null  int64  \n",
      " 35  Acceleration      18979 non-null  int64  \n",
      " 36  Sprint Speed      18979 non-null  int64  \n",
      " 37  Agility           18979 non-null  int64  \n",
      " 38  Reactions         18979 non-null  int64  \n",
      " 39  Balance           18979 non-null  int64  \n",
      " 40  Power             18979 non-null  int64  \n",
      " 41  Shot Power        18979 non-null  int64  \n",
      " 42  Jumping           18979 non-null  int64  \n",
      " 43  Stamina           18979 non-null  int64  \n",
      " 44  Strength          18979 non-null  int64  \n",
      " 45  Long Shots        18979 non-null  int64  \n",
      " 46  Mentality         18979 non-null  int64  \n",
      " 47  Aggression        18979 non-null  int64  \n",
      " 48  Interceptions     18979 non-null  int64  \n",
      " 49  Positioning       18979 non-null  int64  \n",
      " 50  Vision            18979 non-null  int64  \n",
      " 51  Penalties         18979 non-null  int64  \n",
      " 52  Composure         18979 non-null  int64  \n",
      " 53  Defending         18979 non-null  int64  \n",
      " 54  Marking           18979 non-null  int64  \n",
      " 55  Standing Tackle   18979 non-null  int64  \n",
      " 56  Sliding Tackle    18979 non-null  int64  \n",
      " 57  Goalkeeping       18979 non-null  int64  \n",
      " 58  GK Diving         18979 non-null  int64  \n",
      " 59  GK Handling       18979 non-null  int64  \n",
      " 60  GK Kicking        18979 non-null  int64  \n",
      " 61  GK Positioning    18979 non-null  int64  \n",
      " 62  GK Reflexes       18979 non-null  int64  \n",
      " 63  Total Stats       18979 non-null  int64  \n",
      " 64  Base Stats        18979 non-null  int64  \n",
      " 65  W/F               18979 non-null  object \n",
      " 66  SM                18979 non-null  object \n",
      " 67  A/W               18979 non-null  object \n",
      " 68  D/W               18979 non-null  object \n",
      " 69  IR                18979 non-null  object \n",
      " 70  PAC               18979 non-null  int64  \n",
      " 71  SHO               18979 non-null  int64  \n",
      " 72  PAS               18979 non-null  int64  \n",
      " 73  DRI               18979 non-null  int64  \n",
      " 74  DEF               18979 non-null  int64  \n",
      " 75  PHY               18979 non-null  int64  \n",
      " 76  Hits              18979 non-null  object \n",
      "dtypes: float64(1), int64(56), object(20)\n",
      "memory usage: 11.1+ MB\n"
     ]
    }
   ],
   "source": [
    "df.info()"
   ]
  },
  {
   "cell_type": "code",
   "execution_count": 139,
   "id": "aea46438-4138-4bd8-a051-808cc7fd7faa",
   "metadata": {},
   "outputs": [
    {
     "name": "stdout",
     "output_type": "stream",
     "text": [
      "<class 'pandas.core.series.Series'>\n",
      "RangeIndex: 18979 entries, 0 to 18978\n",
      "Series name: Height\n",
      "Non-Null Count  Dtype  \n",
      "--------------  -----  \n",
      "18979 non-null  float64\n",
      "dtypes: float64(1)\n",
      "memory usage: 148.4 KB\n"
     ]
    }
   ],
   "source": [
    "df['Height'].info()"
   ]
  },
  {
   "cell_type": "markdown",
   "id": "74a08763-c947-4aa5-9d4f-66a6e33fcaab",
   "metadata": {},
   "source": [
    "# separate Joined columns into month, year and days"
   ]
  },
  {
   "cell_type": "code",
   "execution_count": 140,
   "id": "4ccbe346-8fd7-46ea-967b-2895bc1028a2",
   "metadata": {},
   "outputs": [
    {
     "data": {
      "text/html": [
       "<div>\n",
       "<style scoped>\n",
       "    .dataframe tbody tr th:only-of-type {\n",
       "        vertical-align: middle;\n",
       "    }\n",
       "\n",
       "    .dataframe tbody tr th {\n",
       "        vertical-align: top;\n",
       "    }\n",
       "\n",
       "    .dataframe thead th {\n",
       "        text-align: right;\n",
       "    }\n",
       "</style>\n",
       "<table border=\"1\" class=\"dataframe\">\n",
       "  <thead>\n",
       "    <tr style=\"text-align: right;\">\n",
       "      <th></th>\n",
       "      <th>Joined</th>\n",
       "    </tr>\n",
       "  </thead>\n",
       "  <tbody>\n",
       "    <tr>\n",
       "      <th>0</th>\n",
       "      <td>Jul 1, 2004</td>\n",
       "    </tr>\n",
       "    <tr>\n",
       "      <th>1</th>\n",
       "      <td>Jul 10, 2018</td>\n",
       "    </tr>\n",
       "    <tr>\n",
       "      <th>2</th>\n",
       "      <td>Jul 16, 2014</td>\n",
       "    </tr>\n",
       "    <tr>\n",
       "      <th>3</th>\n",
       "      <td>Aug 30, 2015</td>\n",
       "    </tr>\n",
       "    <tr>\n",
       "      <th>4</th>\n",
       "      <td>Aug 3, 2017</td>\n",
       "    </tr>\n",
       "    <tr>\n",
       "      <th>...</th>\n",
       "      <td>...</td>\n",
       "    </tr>\n",
       "    <tr>\n",
       "      <th>18974</th>\n",
       "      <td>Aug 1, 2020</td>\n",
       "    </tr>\n",
       "    <tr>\n",
       "      <th>18975</th>\n",
       "      <td>Aug 1, 2020</td>\n",
       "    </tr>\n",
       "    <tr>\n",
       "      <th>18976</th>\n",
       "      <td>Jul 13, 2018</td>\n",
       "    </tr>\n",
       "    <tr>\n",
       "      <th>18977</th>\n",
       "      <td>Aug 1, 2020</td>\n",
       "    </tr>\n",
       "    <tr>\n",
       "      <th>18978</th>\n",
       "      <td>Jan 1, 2020</td>\n",
       "    </tr>\n",
       "  </tbody>\n",
       "</table>\n",
       "<p>18979 rows × 1 columns</p>\n",
       "</div>"
      ],
      "text/plain": [
       "             Joined\n",
       "0       Jul 1, 2004\n",
       "1      Jul 10, 2018\n",
       "2      Jul 16, 2014\n",
       "3      Aug 30, 2015\n",
       "4       Aug 3, 2017\n",
       "...             ...\n",
       "18974   Aug 1, 2020\n",
       "18975   Aug 1, 2020\n",
       "18976  Jul 13, 2018\n",
       "18977   Aug 1, 2020\n",
       "18978   Jan 1, 2020\n",
       "\n",
       "[18979 rows x 1 columns]"
      ]
     },
     "execution_count": 140,
     "metadata": {},
     "output_type": "execute_result"
    }
   ],
   "source": [
    "df[[\"Joined\"]]"
   ]
  },
  {
   "cell_type": "code",
   "execution_count": 167,
   "id": "9600b738-0742-43e0-8192-5482bc2c3561",
   "metadata": {},
   "outputs": [],
   "source": [
    "# for i in df[\"Joined\"]:\n",
    "#     month, day, year = i.split()\n",
    "    \n",
    "# df['Month'] = [i for i in month]\n",
    "# df['Day'] = [i for i in day]\n",
    "# df['Year'] = [i for i in year]\n",
    "df['Month'] = [i.split()[0] for i in df['Joined']]\n",
    "df['Day'] = [i.split()[1].replace(\",\", \"\") for i in df['Joined']]\n",
    "df['Year'] = [i.split()[2] for i in df['Joined']]\n",
    "\n"
   ]
  },
  {
   "cell_type": "code",
   "execution_count": 168,
   "id": "b2ac5faf-ae22-4ace-9c4d-aa8ed56b186b",
   "metadata": {},
   "outputs": [],
   "source": [
    "df[['Day', 'Year']] = df[['Day', 'Year']].astype(int)"
   ]
  },
  {
   "cell_type": "code",
   "execution_count": 170,
   "id": "e41f60d4-4467-4b3e-a352-18c7c734cb6f",
   "metadata": {},
   "outputs": [
    {
     "name": "stdout",
     "output_type": "stream",
     "text": [
      "<class 'pandas.core.frame.DataFrame'>\n",
      "RangeIndex: 18979 entries, 0 to 18978\n",
      "Data columns (total 80 columns):\n",
      " #   Column            Non-Null Count  Dtype  \n",
      "---  ------            --------------  -----  \n",
      " 0   photoUrl          18979 non-null  object \n",
      " 1   LongName          18979 non-null  object \n",
      " 2   playerUrl         18979 non-null  object \n",
      " 3   Nationality       18979 non-null  object \n",
      " 4   Positions         18979 non-null  object \n",
      " 5   Name              18979 non-null  object \n",
      " 6   Age               18979 non-null  int64  \n",
      " 7   ↓OVA              18979 non-null  int64  \n",
      " 8   POT               18979 non-null  int64  \n",
      " 9   Team & Contract   18979 non-null  object \n",
      " 10  ID                18979 non-null  int64  \n",
      " 11  Height            18979 non-null  float64\n",
      " 12  Weight            18979 non-null  int64  \n",
      " 13  foot              18979 non-null  object \n",
      " 14  BOV               18979 non-null  int64  \n",
      " 15  BP                18979 non-null  object \n",
      " 16  Growth            18979 non-null  int64  \n",
      " 17  Joined            18979 non-null  object \n",
      " 18  Loan Date End     1013 non-null   object \n",
      " 19  Value             18979 non-null  object \n",
      " 20  Wage              18979 non-null  object \n",
      " 21  Release Clause    18979 non-null  object \n",
      " 22  Attacking         18979 non-null  int64  \n",
      " 23  Crossing          18979 non-null  int64  \n",
      " 24  Finishing         18979 non-null  int64  \n",
      " 25  Heading Accuracy  18979 non-null  int64  \n",
      " 26  Short Passing     18979 non-null  int64  \n",
      " 27  Volleys           18979 non-null  int64  \n",
      " 28  Skill             18979 non-null  int64  \n",
      " 29  Dribbling         18979 non-null  int64  \n",
      " 30  Curve             18979 non-null  int64  \n",
      " 31  FK Accuracy       18979 non-null  int64  \n",
      " 32  Long Passing      18979 non-null  int64  \n",
      " 33  Ball Control      18979 non-null  int64  \n",
      " 34  Movement          18979 non-null  int64  \n",
      " 35  Acceleration      18979 non-null  int64  \n",
      " 36  Sprint Speed      18979 non-null  int64  \n",
      " 37  Agility           18979 non-null  int64  \n",
      " 38  Reactions         18979 non-null  int64  \n",
      " 39  Balance           18979 non-null  int64  \n",
      " 40  Power             18979 non-null  int64  \n",
      " 41  Shot Power        18979 non-null  int64  \n",
      " 42  Jumping           18979 non-null  int64  \n",
      " 43  Stamina           18979 non-null  int64  \n",
      " 44  Strength          18979 non-null  int64  \n",
      " 45  Long Shots        18979 non-null  int64  \n",
      " 46  Mentality         18979 non-null  int64  \n",
      " 47  Aggression        18979 non-null  int64  \n",
      " 48  Interceptions     18979 non-null  int64  \n",
      " 49  Positioning       18979 non-null  int64  \n",
      " 50  Vision            18979 non-null  int64  \n",
      " 51  Penalties         18979 non-null  int64  \n",
      " 52  Composure         18979 non-null  int64  \n",
      " 53  Defending         18979 non-null  int64  \n",
      " 54  Marking           18979 non-null  int64  \n",
      " 55  Standing Tackle   18979 non-null  int64  \n",
      " 56  Sliding Tackle    18979 non-null  int64  \n",
      " 57  Goalkeeping       18979 non-null  int64  \n",
      " 58  GK Diving         18979 non-null  int64  \n",
      " 59  GK Handling       18979 non-null  int64  \n",
      " 60  GK Kicking        18979 non-null  int64  \n",
      " 61  GK Positioning    18979 non-null  int64  \n",
      " 62  GK Reflexes       18979 non-null  int64  \n",
      " 63  Total Stats       18979 non-null  int64  \n",
      " 64  Base Stats        18979 non-null  int64  \n",
      " 65  W/F               18979 non-null  object \n",
      " 66  SM                18979 non-null  object \n",
      " 67  A/W               18979 non-null  object \n",
      " 68  D/W               18979 non-null  object \n",
      " 69  IR                18979 non-null  object \n",
      " 70  PAC               18979 non-null  int64  \n",
      " 71  SHO               18979 non-null  int64  \n",
      " 72  PAS               18979 non-null  int64  \n",
      " 73  DRI               18979 non-null  int64  \n",
      " 74  DEF               18979 non-null  int64  \n",
      " 75  PHY               18979 non-null  int64  \n",
      " 76  Hits              18979 non-null  object \n",
      " 77  Month             18979 non-null  object \n",
      " 78  Day               18979 non-null  int64  \n",
      " 79  Year              18979 non-null  int64  \n",
      "dtypes: float64(1), int64(58), object(21)\n",
      "memory usage: 11.6+ MB\n"
     ]
    }
   ],
   "source": [
    "df.info()"
   ]
  },
  {
   "cell_type": "code",
   "execution_count": null,
   "id": "38f5dc10-1278-490f-b247-9a57f3539643",
   "metadata": {},
   "outputs": [],
   "source": []
  },
  {
   "cell_type": "code",
   "execution_count": 99,
   "id": "da565f83-8051-41b5-a606-7fc11935ec58",
   "metadata": {},
   "outputs": [],
   "source": [
    "df[['Day', 'Year']] = df[['Day', 'Year']].astype(int)"
   ]
  },
  {
   "cell_type": "code",
   "execution_count": 100,
   "id": "c87d3d0e-0b5e-4ce0-8074-882782ea7998",
   "metadata": {},
   "outputs": [
    {
     "name": "stdout",
     "output_type": "stream",
     "text": [
      "<class 'pandas.core.frame.DataFrame'>\n",
      "RangeIndex: 18979 entries, 0 to 18978\n",
      "Data columns (total 2 columns):\n",
      " #   Column  Non-Null Count  Dtype\n",
      "---  ------  --------------  -----\n",
      " 0   Day     18979 non-null  int64\n",
      " 1   Year    18979 non-null  int64\n",
      "dtypes: int64(2)\n",
      "memory usage: 296.7 KB\n"
     ]
    }
   ],
   "source": [
    "df[['Day', 'Year']].info()"
   ]
  },
  {
   "cell_type": "code",
   "execution_count": 173,
   "id": "c94d7104-c398-450c-91dd-2a564c147bde",
   "metadata": {},
   "outputs": [
    {
     "name": "stdout",
     "output_type": "stream",
     "text": [
      "<class 'pandas.core.frame.DataFrame'>\n",
      "RangeIndex: 18979 entries, 0 to 18978\n",
      "Data columns (total 2 columns):\n",
      " #   Column  Non-Null Count  Dtype\n",
      "---  ------  --------------  -----\n",
      " 0   Day     18979 non-null  int64\n",
      " 1   Year    18979 non-null  int64\n",
      "dtypes: int64(2)\n",
      "memory usage: 296.7 KB\n"
     ]
    }
   ],
   "source": [
    "#  check if we reash the results \n",
    "df[['Day', 'Year']].info()"
   ]
  },
  {
   "cell_type": "markdown",
   "id": "d4c00435-68b1-4777-8af9-85f58b88eef3",
   "metadata": {},
   "source": [
    "## Clean and transform the value, wage and release clause columns of int"
   ]
  },
  {
   "cell_type": "code",
   "execution_count": 174,
   "id": "83cd7ec2-a67f-416a-8b51-c090202795b7",
   "metadata": {},
   "outputs": [
    {
     "data": {
      "text/html": [
       "<div>\n",
       "<style scoped>\n",
       "    .dataframe tbody tr th:only-of-type {\n",
       "        vertical-align: middle;\n",
       "    }\n",
       "\n",
       "    .dataframe tbody tr th {\n",
       "        vertical-align: top;\n",
       "    }\n",
       "\n",
       "    .dataframe thead th {\n",
       "        text-align: right;\n",
       "    }\n",
       "</style>\n",
       "<table border=\"1\" class=\"dataframe\">\n",
       "  <thead>\n",
       "    <tr style=\"text-align: right;\">\n",
       "      <th></th>\n",
       "      <th>Wage</th>\n",
       "      <th>Value</th>\n",
       "    </tr>\n",
       "  </thead>\n",
       "  <tbody>\n",
       "    <tr>\n",
       "      <th>0</th>\n",
       "      <td>€560K</td>\n",
       "      <td>€67.5M</td>\n",
       "    </tr>\n",
       "    <tr>\n",
       "      <th>1</th>\n",
       "      <td>€220K</td>\n",
       "      <td>€46M</td>\n",
       "    </tr>\n",
       "    <tr>\n",
       "      <th>2</th>\n",
       "      <td>€125K</td>\n",
       "      <td>€75M</td>\n",
       "    </tr>\n",
       "    <tr>\n",
       "      <th>3</th>\n",
       "      <td>€370K</td>\n",
       "      <td>€87M</td>\n",
       "    </tr>\n",
       "    <tr>\n",
       "      <th>4</th>\n",
       "      <td>€270K</td>\n",
       "      <td>€90M</td>\n",
       "    </tr>\n",
       "    <tr>\n",
       "      <th>...</th>\n",
       "      <td>...</td>\n",
       "      <td>...</td>\n",
       "    </tr>\n",
       "    <tr>\n",
       "      <th>18974</th>\n",
       "      <td>€1K</td>\n",
       "      <td>€35K</td>\n",
       "    </tr>\n",
       "    <tr>\n",
       "      <th>18975</th>\n",
       "      <td>€500</td>\n",
       "      <td>€60K</td>\n",
       "    </tr>\n",
       "    <tr>\n",
       "      <th>18976</th>\n",
       "      <td>€1K</td>\n",
       "      <td>€40K</td>\n",
       "    </tr>\n",
       "    <tr>\n",
       "      <th>18977</th>\n",
       "      <td>€500</td>\n",
       "      <td>€60K</td>\n",
       "    </tr>\n",
       "    <tr>\n",
       "      <th>18978</th>\n",
       "      <td>€500</td>\n",
       "      <td>€60K</td>\n",
       "    </tr>\n",
       "  </tbody>\n",
       "</table>\n",
       "<p>18979 rows × 2 columns</p>\n",
       "</div>"
      ],
      "text/plain": [
       "        Wage   Value\n",
       "0      €560K  €67.5M\n",
       "1      €220K    €46M\n",
       "2      €125K    €75M\n",
       "3      €370K    €87M\n",
       "4      €270K    €90M\n",
       "...      ...     ...\n",
       "18974    €1K    €35K\n",
       "18975   €500    €60K\n",
       "18976    €1K    €40K\n",
       "18977   €500    €60K\n",
       "18978   €500    €60K\n",
       "\n",
       "[18979 rows x 2 columns]"
      ]
     },
     "execution_count": 174,
     "metadata": {},
     "output_type": "execute_result"
    }
   ],
   "source": [
    "df[['Wage', 'Value']]"
   ]
  },
  {
   "cell_type": "code",
   "execution_count": 175,
   "id": "30c247b1-c4fc-464c-b641-ca9d87aa744c",
   "metadata": {},
   "outputs": [],
   "source": [
    "# for i in df['Wage']:\n",
    "#     df['Wage'] = int(i.replace(\"€\", \"\").replace(\"K\", \"\")) * 1_000\n",
    "#     pass\n",
    "\n",
    "df['Wage'] = [i.replace(\"€\", \"\").replace(\"K\", \"\") for i in df['Wage']]\n",
    "df['Value'] = [i.replace(\"€\", \"\").replace(\"M\", \"\") for i in df['Value']]\n",
    "    "
   ]
  },
  {
   "cell_type": "code",
   "execution_count": null,
   "id": "b70cdde5-36a7-4687-a4c7-840a93c4fb6c",
   "metadata": {},
   "outputs": [],
   "source": [
    "df[['Wage', 'V']]"
   ]
  },
  {
   "cell_type": "code",
   "execution_count": null,
   "id": "a632f1e2-baa6-47c1-8d66-a559349c6485",
   "metadata": {},
   "outputs": [],
   "source": []
  },
  {
   "cell_type": "code",
   "execution_count": null,
   "id": "1ece0904-9bca-43fb-8465-105ec524ec94",
   "metadata": {},
   "outputs": [],
   "source": []
  },
  {
   "cell_type": "code",
   "execution_count": null,
   "id": "e74836b4-c284-44f7-b6ae-0a0a0cfd0a49",
   "metadata": {},
   "outputs": [],
   "source": []
  }
 ],
 "metadata": {
  "kernelspec": {
   "display_name": "Python 3 (ipykernel)",
   "language": "python",
   "name": "python3"
  },
  "language_info": {
   "codemirror_mode": {
    "name": "ipython",
    "version": 3
   },
   "file_extension": ".py",
   "mimetype": "text/x-python",
   "name": "python",
   "nbconvert_exporter": "python",
   "pygments_lexer": "ipython3",
   "version": "3.8.10"
  }
 },
 "nbformat": 4,
 "nbformat_minor": 5
}
