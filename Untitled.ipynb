{
 "cells": [
  {
   "cell_type": "markdown",
   "id": "07a44cc6-ab04-4222-836b-cc08ba5c6c23",
   "metadata": {},
   "source": [
    "## Kaggle API"
   ]
  },
  {
   "cell_type": "code",
   "execution_count": 1,
   "id": "5064fd20-ff0f-4e98-90d1-bd64328bfb70",
   "metadata": {},
   "outputs": [],
   "source": [
    "import kaggle\n",
    "kaggle.api.authenticate()"
   ]
  },
  {
   "cell_type": "code",
   "execution_count": 7,
   "id": "f792236f-f67e-4f88-a16a-f6bf3e10d196",
   "metadata": {},
   "outputs": [
    {
     "name": "stdout",
     "output_type": "stream",
     "text": [
      "Dataset URL: https://www.kaggle.com/datasets/yagunnersya/fifa-21-messy-raw-dataset-for-cleaning-exploring\n"
     ]
    }
   ],
   "source": [
    "kaggle.api.dataset_download_files('yagunnersya/fifa-21-messy-raw-dataset-for-cleaning-exploring', path=\"/home/hp\", unzip=True)"
   ]
  },
  {
   "cell_type": "code",
   "execution_count": 19,
   "id": "d4192770-c0fc-4b7c-9cfd-5071ede28370",
   "metadata": {},
   "outputs": [],
   "source": [
    "import pandas as pd \n",
    "pd.set_option('display.max_columns', None)"
   ]
  },
  {
   "cell_type": "code",
   "execution_count": 20,
   "id": "ce7e2228-551c-4ff7-9ef3-211513aa58f6",
   "metadata": {},
   "outputs": [
    {
     "name": "stderr",
     "output_type": "stream",
     "text": [
      "/tmp/ipykernel_30325/2697469780.py:1: DtypeWarning: Columns (76) have mixed types. Specify dtype option on import or set low_memory=False.\n",
      "  df = pd.read_csv('/home/hp/fifa21_raw_data.csv')\n"
     ]
    }
   ],
   "source": [
    "df = pd.read_csv('/home/hp/fifa21_raw_data.csv')"
   ]
  },
  {
   "cell_type": "code",
   "execution_count": 21,
   "id": "6e23568c-ec2d-44cd-aca9-7da54f0e0dc2",
   "metadata": {},
   "outputs": [
    {
     "data": {
      "text/plain": [
       "0     5'7\"\n",
       "1     6'2\"\n",
       "2     6'2\"\n",
       "3    5'11\"\n",
       "4     5'9\"\n",
       "5     6'0\"\n",
       "6    5'10\"\n",
       "7     6'3\"\n",
       "8     5'9\"\n",
       "9     5'9\"\n",
       "Name: Height, dtype: object"
      ]
     },
     "execution_count": 21,
     "metadata": {},
     "output_type": "execute_result"
    }
   ],
   "source": [
    "df['Height'].head(10)"
   ]
  },
  {
   "cell_type": "code",
   "execution_count": 22,
   "id": "cd22d205-ca5c-48c8-bf6b-9f13f3b88a08",
   "metadata": {},
   "outputs": [
    {
     "name": "stdout",
     "output_type": "stream",
     "text": [
      "<class 'pandas.core.frame.DataFrame'>\n",
      "RangeIndex: 18979 entries, 0 to 18978\n",
      "Data columns (total 2 columns):\n",
      " #   Column  Non-Null Count  Dtype \n",
      "---  ------  --------------  ----- \n",
      " 0   Height  18979 non-null  object\n",
      " 1   Weight  18979 non-null  object\n",
      "dtypes: object(2)\n",
      "memory usage: 296.7+ KB\n"
     ]
    }
   ],
   "source": [
    "# we notice that the Height and the weight columns is object data type \n",
    "df[['Height', 'Weight']].info()"
   ]
  },
  {
   "cell_type": "code",
   "execution_count": 23,
   "id": "bc2a8d76-347f-41aa-96c5-7ecc9ae94ef7",
   "metadata": {},
   "outputs": [
    {
     "data": {
      "text/plain": [
       "0        False\n",
       "1        False\n",
       "2        False\n",
       "3        False\n",
       "4        False\n",
       "         ...  \n",
       "18974    False\n",
       "18975    False\n",
       "18976    False\n",
       "18977    False\n",
       "18978    False\n",
       "Length: 18979, dtype: bool"
      ]
     },
     "execution_count": 23,
     "metadata": {},
     "output_type": "execute_result"
    }
   ],
   "source": [
    "# pd.DataFrame(df[['Height', 'Weight']])\n",
    "# check if there is a duplicated value \n",
    "df.duplicated()"
   ]
  },
  {
   "cell_type": "code",
   "execution_count": 24,
   "id": "b8e3d94b-25be-420e-84ae-f1c2c0a22484",
   "metadata": {},
   "outputs": [
    {
     "data": {
      "text/plain": [
       "dtype('O')"
      ]
     },
     "execution_count": 24,
     "metadata": {},
     "output_type": "execute_result"
    }
   ],
   "source": [
    "df['Height'].dtype"
   ]
  },
  {
   "cell_type": "code",
   "execution_count": 25,
   "id": "57a006c2-4646-4b44-aae6-c5569ea84066",
   "metadata": {},
   "outputs": [
    {
     "name": "stdout",
     "output_type": "stream",
     "text": [
      "<class 'pandas.core.frame.DataFrame'>\n",
      "RangeIndex: 18979 entries, 0 to 18978\n",
      "Data columns (total 1 columns):\n",
      " #   Column  Non-Null Count  Dtype \n",
      "---  ------  --------------  ----- \n",
      " 0   Height  18979 non-null  object\n",
      "dtypes: object(1)\n",
      "memory usage: 148.4+ KB\n"
     ]
    }
   ],
   "source": [
    "# check the data type of each columns and try to covert them into the right data type if there is a misstyping \n",
    "\n",
    "df[['Height']].info()"
   ]
  },
  {
   "cell_type": "code",
   "execution_count": 26,
   "id": "a1f59457-d386-4b26-87ab-4f96c46abeff",
   "metadata": {},
   "outputs": [
    {
     "data": {
      "text/html": [
       "<div>\n",
       "<style scoped>\n",
       "    .dataframe tbody tr th:only-of-type {\n",
       "        vertical-align: middle;\n",
       "    }\n",
       "\n",
       "    .dataframe tbody tr th {\n",
       "        vertical-align: top;\n",
       "    }\n",
       "\n",
       "    .dataframe thead th {\n",
       "        text-align: right;\n",
       "    }\n",
       "</style>\n",
       "<table border=\"1\" class=\"dataframe\">\n",
       "  <thead>\n",
       "    <tr style=\"text-align: right;\">\n",
       "      <th></th>\n",
       "      <th>Height</th>\n",
       "      <th>Weight</th>\n",
       "    </tr>\n",
       "  </thead>\n",
       "  <tbody>\n",
       "    <tr>\n",
       "      <th>0</th>\n",
       "      <td>5'7\"</td>\n",
       "      <td>159lbs</td>\n",
       "    </tr>\n",
       "    <tr>\n",
       "      <th>1</th>\n",
       "      <td>6'2\"</td>\n",
       "      <td>183lbs</td>\n",
       "    </tr>\n",
       "    <tr>\n",
       "      <th>2</th>\n",
       "      <td>6'2\"</td>\n",
       "      <td>192lbs</td>\n",
       "    </tr>\n",
       "    <tr>\n",
       "      <th>3</th>\n",
       "      <td>5'11\"</td>\n",
       "      <td>154lbs</td>\n",
       "    </tr>\n",
       "    <tr>\n",
       "      <th>4</th>\n",
       "      <td>5'9\"</td>\n",
       "      <td>150lbs</td>\n",
       "    </tr>\n",
       "    <tr>\n",
       "      <th>...</th>\n",
       "      <td>...</td>\n",
       "      <td>...</td>\n",
       "    </tr>\n",
       "    <tr>\n",
       "      <th>18974</th>\n",
       "      <td>5'10\"</td>\n",
       "      <td>154lbs</td>\n",
       "    </tr>\n",
       "    <tr>\n",
       "      <th>18975</th>\n",
       "      <td>5'7\"</td>\n",
       "      <td>128lbs</td>\n",
       "    </tr>\n",
       "    <tr>\n",
       "      <th>18976</th>\n",
       "      <td>5'10\"</td>\n",
       "      <td>146lbs</td>\n",
       "    </tr>\n",
       "    <tr>\n",
       "      <th>18977</th>\n",
       "      <td>5'9\"</td>\n",
       "      <td>143lbs</td>\n",
       "    </tr>\n",
       "    <tr>\n",
       "      <th>18978</th>\n",
       "      <td>5'9\"</td>\n",
       "      <td>150lbs</td>\n",
       "    </tr>\n",
       "  </tbody>\n",
       "</table>\n",
       "<p>18979 rows × 2 columns</p>\n",
       "</div>"
      ],
      "text/plain": [
       "      Height  Weight\n",
       "0       5'7\"  159lbs\n",
       "1       6'2\"  183lbs\n",
       "2       6'2\"  192lbs\n",
       "3      5'11\"  154lbs\n",
       "4       5'9\"  150lbs\n",
       "...      ...     ...\n",
       "18974  5'10\"  154lbs\n",
       "18975   5'7\"  128lbs\n",
       "18976  5'10\"  146lbs\n",
       "18977   5'9\"  143lbs\n",
       "18978   5'9\"  150lbs\n",
       "\n",
       "[18979 rows x 2 columns]"
      ]
     },
     "execution_count": 26,
     "metadata": {},
     "output_type": "execute_result"
    }
   ],
   "source": [
    "df[['Height', 'Weight']]"
   ]
  },
  {
   "cell_type": "code",
   "execution_count": 27,
   "id": "9b7392d0-d9e0-4ac7-9e95-102706241699",
   "metadata": {},
   "outputs": [],
   "source": [
    "# transform Height columns into float data types \n",
    "for i in df['Height']:\n",
    "    df['Height'] = i.replace(\"'\", \".\").replace('\"', \"\")"
   ]
  },
  {
   "cell_type": "code",
   "execution_count": 28,
   "id": "84084adb-c7af-4d4e-8c7d-564494db2ee8",
   "metadata": {},
   "outputs": [
    {
     "data": {
      "text/html": [
       "<div>\n",
       "<style scoped>\n",
       "    .dataframe tbody tr th:only-of-type {\n",
       "        vertical-align: middle;\n",
       "    }\n",
       "\n",
       "    .dataframe tbody tr th {\n",
       "        vertical-align: top;\n",
       "    }\n",
       "\n",
       "    .dataframe thead th {\n",
       "        text-align: right;\n",
       "    }\n",
       "</style>\n",
       "<table border=\"1\" class=\"dataframe\">\n",
       "  <thead>\n",
       "    <tr style=\"text-align: right;\">\n",
       "      <th></th>\n",
       "      <th>Height</th>\n",
       "    </tr>\n",
       "  </thead>\n",
       "  <tbody>\n",
       "    <tr>\n",
       "      <th>0</th>\n",
       "      <td>5.9</td>\n",
       "    </tr>\n",
       "    <tr>\n",
       "      <th>1</th>\n",
       "      <td>5.9</td>\n",
       "    </tr>\n",
       "    <tr>\n",
       "      <th>2</th>\n",
       "      <td>5.9</td>\n",
       "    </tr>\n",
       "    <tr>\n",
       "      <th>3</th>\n",
       "      <td>5.9</td>\n",
       "    </tr>\n",
       "    <tr>\n",
       "      <th>4</th>\n",
       "      <td>5.9</td>\n",
       "    </tr>\n",
       "    <tr>\n",
       "      <th>...</th>\n",
       "      <td>...</td>\n",
       "    </tr>\n",
       "    <tr>\n",
       "      <th>18974</th>\n",
       "      <td>5.9</td>\n",
       "    </tr>\n",
       "    <tr>\n",
       "      <th>18975</th>\n",
       "      <td>5.9</td>\n",
       "    </tr>\n",
       "    <tr>\n",
       "      <th>18976</th>\n",
       "      <td>5.9</td>\n",
       "    </tr>\n",
       "    <tr>\n",
       "      <th>18977</th>\n",
       "      <td>5.9</td>\n",
       "    </tr>\n",
       "    <tr>\n",
       "      <th>18978</th>\n",
       "      <td>5.9</td>\n",
       "    </tr>\n",
       "  </tbody>\n",
       "</table>\n",
       "<p>18979 rows × 1 columns</p>\n",
       "</div>"
      ],
      "text/plain": [
       "      Height\n",
       "0        5.9\n",
       "1        5.9\n",
       "2        5.9\n",
       "3        5.9\n",
       "4        5.9\n",
       "...      ...\n",
       "18974    5.9\n",
       "18975    5.9\n",
       "18976    5.9\n",
       "18977    5.9\n",
       "18978    5.9\n",
       "\n",
       "[18979 rows x 1 columns]"
      ]
     },
     "execution_count": 28,
     "metadata": {},
     "output_type": "execute_result"
    }
   ],
   "source": [
    "# check if we acheive the right results\n",
    "df[[\"Height\"]]"
   ]
  },
  {
   "cell_type": "code",
   "execution_count": 29,
   "id": "fc17329c-c715-479e-9ddd-24eeb2b505b4",
   "metadata": {},
   "outputs": [],
   "source": [
    "df['Height'] = df['Height'].astype(float)"
   ]
  },
  {
   "cell_type": "code",
   "execution_count": 30,
   "id": "545d10ba-7a1f-45cb-a6b7-b76551d39ea5",
   "metadata": {},
   "outputs": [
    {
     "data": {
      "text/plain": [
       "0        159lbs\n",
       "1        183lbs\n",
       "2        192lbs\n",
       "3        154lbs\n",
       "4        150lbs\n",
       "          ...  \n",
       "18974    154lbs\n",
       "18975    128lbs\n",
       "18976    146lbs\n",
       "18977    143lbs\n",
       "18978    150lbs\n",
       "Name: Weight, Length: 18979, dtype: object"
      ]
     },
     "execution_count": 30,
     "metadata": {},
     "output_type": "execute_result"
    }
   ],
   "source": [
    "df['Weight']"
   ]
  },
  {
   "cell_type": "code",
   "execution_count": 31,
   "id": "89cbe9a2-027c-4f0c-b82f-df7d7ac6e5ff",
   "metadata": {},
   "outputs": [],
   "source": [
    "# repace the Weight columns with right data types \n",
    "df['Weight'] = df['Weight'].str.replace(\"lbs\", \"\").astype(int)"
   ]
  },
  {
   "cell_type": "code",
   "execution_count": 32,
   "id": "d0561d6c-ee92-40c6-9fe3-4c876d0039ab",
   "metadata": {},
   "outputs": [
    {
     "data": {
      "text/html": [
       "<div>\n",
       "<style scoped>\n",
       "    .dataframe tbody tr th:only-of-type {\n",
       "        vertical-align: middle;\n",
       "    }\n",
       "\n",
       "    .dataframe tbody tr th {\n",
       "        vertical-align: top;\n",
       "    }\n",
       "\n",
       "    .dataframe thead th {\n",
       "        text-align: right;\n",
       "    }\n",
       "</style>\n",
       "<table border=\"1\" class=\"dataframe\">\n",
       "  <thead>\n",
       "    <tr style=\"text-align: right;\">\n",
       "      <th></th>\n",
       "      <th>Height</th>\n",
       "      <th>Weight</th>\n",
       "    </tr>\n",
       "  </thead>\n",
       "  <tbody>\n",
       "    <tr>\n",
       "      <th>0</th>\n",
       "      <td>5.9</td>\n",
       "      <td>159</td>\n",
       "    </tr>\n",
       "    <tr>\n",
       "      <th>1</th>\n",
       "      <td>5.9</td>\n",
       "      <td>183</td>\n",
       "    </tr>\n",
       "    <tr>\n",
       "      <th>2</th>\n",
       "      <td>5.9</td>\n",
       "      <td>192</td>\n",
       "    </tr>\n",
       "    <tr>\n",
       "      <th>3</th>\n",
       "      <td>5.9</td>\n",
       "      <td>154</td>\n",
       "    </tr>\n",
       "    <tr>\n",
       "      <th>4</th>\n",
       "      <td>5.9</td>\n",
       "      <td>150</td>\n",
       "    </tr>\n",
       "    <tr>\n",
       "      <th>...</th>\n",
       "      <td>...</td>\n",
       "      <td>...</td>\n",
       "    </tr>\n",
       "    <tr>\n",
       "      <th>18974</th>\n",
       "      <td>5.9</td>\n",
       "      <td>154</td>\n",
       "    </tr>\n",
       "    <tr>\n",
       "      <th>18975</th>\n",
       "      <td>5.9</td>\n",
       "      <td>128</td>\n",
       "    </tr>\n",
       "    <tr>\n",
       "      <th>18976</th>\n",
       "      <td>5.9</td>\n",
       "      <td>146</td>\n",
       "    </tr>\n",
       "    <tr>\n",
       "      <th>18977</th>\n",
       "      <td>5.9</td>\n",
       "      <td>143</td>\n",
       "    </tr>\n",
       "    <tr>\n",
       "      <th>18978</th>\n",
       "      <td>5.9</td>\n",
       "      <td>150</td>\n",
       "    </tr>\n",
       "  </tbody>\n",
       "</table>\n",
       "<p>18979 rows × 2 columns</p>\n",
       "</div>"
      ],
      "text/plain": [
       "       Height  Weight\n",
       "0         5.9     159\n",
       "1         5.9     183\n",
       "2         5.9     192\n",
       "3         5.9     154\n",
       "4         5.9     150\n",
       "...       ...     ...\n",
       "18974     5.9     154\n",
       "18975     5.9     128\n",
       "18976     5.9     146\n",
       "18977     5.9     143\n",
       "18978     5.9     150\n",
       "\n",
       "[18979 rows x 2 columns]"
      ]
     },
     "execution_count": 32,
     "metadata": {},
     "output_type": "execute_result"
    }
   ],
   "source": [
    "df[['Height', 'Weight']]"
   ]
  },
  {
   "cell_type": "code",
   "execution_count": 33,
   "id": "72a54ad4-d232-462f-a82c-caff0904300a",
   "metadata": {},
   "outputs": [
    {
     "name": "stdout",
     "output_type": "stream",
     "text": [
      "<class 'pandas.core.frame.DataFrame'>\n",
      "RangeIndex: 18979 entries, 0 to 18978\n",
      "Data columns (total 1 columns):\n",
      " #   Column  Non-Null Count  Dtype\n",
      "---  ------  --------------  -----\n",
      " 0   Weight  18979 non-null  int64\n",
      "dtypes: int64(1)\n",
      "memory usage: 148.4 KB\n"
     ]
    }
   ],
   "source": [
    "# check if its the proper data type \n",
    "df[['Weight']].info()"
   ]
  },
  {
   "cell_type": "code",
   "execution_count": 34,
   "id": "f8e01718-8163-4a42-8131-a8660557362e",
   "metadata": {},
   "outputs": [
    {
     "name": "stdout",
     "output_type": "stream",
     "text": [
      "<class 'pandas.core.frame.DataFrame'>\n",
      "RangeIndex: 18979 entries, 0 to 18978\n",
      "Data columns (total 77 columns):\n",
      " #   Column            Non-Null Count  Dtype  \n",
      "---  ------            --------------  -----  \n",
      " 0   photoUrl          18979 non-null  object \n",
      " 1   LongName          18979 non-null  object \n",
      " 2   playerUrl         18979 non-null  object \n",
      " 3   Nationality       18979 non-null  object \n",
      " 4   Positions         18979 non-null  object \n",
      " 5   Name              18979 non-null  object \n",
      " 6   Age               18979 non-null  int64  \n",
      " 7   ↓OVA              18979 non-null  int64  \n",
      " 8   POT               18979 non-null  int64  \n",
      " 9   Team & Contract   18979 non-null  object \n",
      " 10  ID                18979 non-null  int64  \n",
      " 11  Height            18979 non-null  float64\n",
      " 12  Weight            18979 non-null  int64  \n",
      " 13  foot              18979 non-null  object \n",
      " 14  BOV               18979 non-null  int64  \n",
      " 15  BP                18979 non-null  object \n",
      " 16  Growth            18979 non-null  int64  \n",
      " 17  Joined            18979 non-null  object \n",
      " 18  Loan Date End     1013 non-null   object \n",
      " 19  Value             18979 non-null  object \n",
      " 20  Wage              18979 non-null  object \n",
      " 21  Release Clause    18979 non-null  object \n",
      " 22  Attacking         18979 non-null  int64  \n",
      " 23  Crossing          18979 non-null  int64  \n",
      " 24  Finishing         18979 non-null  int64  \n",
      " 25  Heading Accuracy  18979 non-null  int64  \n",
      " 26  Short Passing     18979 non-null  int64  \n",
      " 27  Volleys           18979 non-null  int64  \n",
      " 28  Skill             18979 non-null  int64  \n",
      " 29  Dribbling         18979 non-null  int64  \n",
      " 30  Curve             18979 non-null  int64  \n",
      " 31  FK Accuracy       18979 non-null  int64  \n",
      " 32  Long Passing      18979 non-null  int64  \n",
      " 33  Ball Control      18979 non-null  int64  \n",
      " 34  Movement          18979 non-null  int64  \n",
      " 35  Acceleration      18979 non-null  int64  \n",
      " 36  Sprint Speed      18979 non-null  int64  \n",
      " 37  Agility           18979 non-null  int64  \n",
      " 38  Reactions         18979 non-null  int64  \n",
      " 39  Balance           18979 non-null  int64  \n",
      " 40  Power             18979 non-null  int64  \n",
      " 41  Shot Power        18979 non-null  int64  \n",
      " 42  Jumping           18979 non-null  int64  \n",
      " 43  Stamina           18979 non-null  int64  \n",
      " 44  Strength          18979 non-null  int64  \n",
      " 45  Long Shots        18979 non-null  int64  \n",
      " 46  Mentality         18979 non-null  int64  \n",
      " 47  Aggression        18979 non-null  int64  \n",
      " 48  Interceptions     18979 non-null  int64  \n",
      " 49  Positioning       18979 non-null  int64  \n",
      " 50  Vision            18979 non-null  int64  \n",
      " 51  Penalties         18979 non-null  int64  \n",
      " 52  Composure         18979 non-null  int64  \n",
      " 53  Defending         18979 non-null  int64  \n",
      " 54  Marking           18979 non-null  int64  \n",
      " 55  Standing Tackle   18979 non-null  int64  \n",
      " 56  Sliding Tackle    18979 non-null  int64  \n",
      " 57  Goalkeeping       18979 non-null  int64  \n",
      " 58  GK Diving         18979 non-null  int64  \n",
      " 59  GK Handling       18979 non-null  int64  \n",
      " 60  GK Kicking        18979 non-null  int64  \n",
      " 61  GK Positioning    18979 non-null  int64  \n",
      " 62  GK Reflexes       18979 non-null  int64  \n",
      " 63  Total Stats       18979 non-null  int64  \n",
      " 64  Base Stats        18979 non-null  int64  \n",
      " 65  W/F               18979 non-null  object \n",
      " 66  SM                18979 non-null  object \n",
      " 67  A/W               18979 non-null  object \n",
      " 68  D/W               18979 non-null  object \n",
      " 69  IR                18979 non-null  object \n",
      " 70  PAC               18979 non-null  int64  \n",
      " 71  SHO               18979 non-null  int64  \n",
      " 72  PAS               18979 non-null  int64  \n",
      " 73  DRI               18979 non-null  int64  \n",
      " 74  DEF               18979 non-null  int64  \n",
      " 75  PHY               18979 non-null  int64  \n",
      " 76  Hits              18979 non-null  object \n",
      "dtypes: float64(1), int64(56), object(20)\n",
      "memory usage: 11.1+ MB\n"
     ]
    }
   ],
   "source": [
    "df.info()"
   ]
  },
  {
   "cell_type": "code",
   "execution_count": 35,
   "id": "aea46438-4138-4bd8-a051-808cc7fd7faa",
   "metadata": {},
   "outputs": [
    {
     "name": "stdout",
     "output_type": "stream",
     "text": [
      "<class 'pandas.core.series.Series'>\n",
      "RangeIndex: 18979 entries, 0 to 18978\n",
      "Series name: Height\n",
      "Non-Null Count  Dtype  \n",
      "--------------  -----  \n",
      "18979 non-null  float64\n",
      "dtypes: float64(1)\n",
      "memory usage: 148.4 KB\n"
     ]
    }
   ],
   "source": [
    "df['Height'].info()"
   ]
  },
  {
   "cell_type": "markdown",
   "id": "74a08763-c947-4aa5-9d4f-66a6e33fcaab",
   "metadata": {},
   "source": [
    "# separate Joined columns into month, year and days"
   ]
  },
  {
   "cell_type": "code",
   "execution_count": 36,
   "id": "4ccbe346-8fd7-46ea-967b-2895bc1028a2",
   "metadata": {},
   "outputs": [
    {
     "data": {
      "text/html": [
       "<div>\n",
       "<style scoped>\n",
       "    .dataframe tbody tr th:only-of-type {\n",
       "        vertical-align: middle;\n",
       "    }\n",
       "\n",
       "    .dataframe tbody tr th {\n",
       "        vertical-align: top;\n",
       "    }\n",
       "\n",
       "    .dataframe thead th {\n",
       "        text-align: right;\n",
       "    }\n",
       "</style>\n",
       "<table border=\"1\" class=\"dataframe\">\n",
       "  <thead>\n",
       "    <tr style=\"text-align: right;\">\n",
       "      <th></th>\n",
       "      <th>Joined</th>\n",
       "    </tr>\n",
       "  </thead>\n",
       "  <tbody>\n",
       "    <tr>\n",
       "      <th>0</th>\n",
       "      <td>Jul 1, 2004</td>\n",
       "    </tr>\n",
       "    <tr>\n",
       "      <th>1</th>\n",
       "      <td>Jul 10, 2018</td>\n",
       "    </tr>\n",
       "    <tr>\n",
       "      <th>2</th>\n",
       "      <td>Jul 16, 2014</td>\n",
       "    </tr>\n",
       "    <tr>\n",
       "      <th>3</th>\n",
       "      <td>Aug 30, 2015</td>\n",
       "    </tr>\n",
       "    <tr>\n",
       "      <th>4</th>\n",
       "      <td>Aug 3, 2017</td>\n",
       "    </tr>\n",
       "    <tr>\n",
       "      <th>...</th>\n",
       "      <td>...</td>\n",
       "    </tr>\n",
       "    <tr>\n",
       "      <th>18974</th>\n",
       "      <td>Aug 1, 2020</td>\n",
       "    </tr>\n",
       "    <tr>\n",
       "      <th>18975</th>\n",
       "      <td>Aug 1, 2020</td>\n",
       "    </tr>\n",
       "    <tr>\n",
       "      <th>18976</th>\n",
       "      <td>Jul 13, 2018</td>\n",
       "    </tr>\n",
       "    <tr>\n",
       "      <th>18977</th>\n",
       "      <td>Aug 1, 2020</td>\n",
       "    </tr>\n",
       "    <tr>\n",
       "      <th>18978</th>\n",
       "      <td>Jan 1, 2020</td>\n",
       "    </tr>\n",
       "  </tbody>\n",
       "</table>\n",
       "<p>18979 rows × 1 columns</p>\n",
       "</div>"
      ],
      "text/plain": [
       "             Joined\n",
       "0       Jul 1, 2004\n",
       "1      Jul 10, 2018\n",
       "2      Jul 16, 2014\n",
       "3      Aug 30, 2015\n",
       "4       Aug 3, 2017\n",
       "...             ...\n",
       "18974   Aug 1, 2020\n",
       "18975   Aug 1, 2020\n",
       "18976  Jul 13, 2018\n",
       "18977   Aug 1, 2020\n",
       "18978   Jan 1, 2020\n",
       "\n",
       "[18979 rows x 1 columns]"
      ]
     },
     "execution_count": 36,
     "metadata": {},
     "output_type": "execute_result"
    }
   ],
   "source": [
    "df[[\"Joined\"]]"
   ]
  },
  {
   "cell_type": "code",
   "execution_count": 38,
   "id": "9600b738-0742-43e0-8192-5482bc2c3561",
   "metadata": {},
   "outputs": [],
   "source": [
    "for i in df[\"Joined\"]:\n",
    "    month, day, year = i.split()\n",
    "    df['Month'] = month.replace(\",\", \"\")\n",
    "    df['Day'] = day.replace(\",\", \"\")\n",
    "    df['Year'] = year.replace(\",\", \"\")"
   ]
  },
  {
   "cell_type": "code",
   "execution_count": 44,
   "id": "da565f83-8051-41b5-a606-7fc11935ec58",
   "metadata": {},
   "outputs": [],
   "source": [
    "df[['Day', 'Year']] = df[['Day', 'Year']].astype(int)"
   ]
  },
  {
   "cell_type": "code",
   "execution_count": 45,
   "id": "c87d3d0e-0b5e-4ce0-8074-882782ea7998",
   "metadata": {},
   "outputs": [
    {
     "name": "stdout",
     "output_type": "stream",
     "text": [
      "<class 'pandas.core.frame.DataFrame'>\n",
      "RangeIndex: 18979 entries, 0 to 18978\n",
      "Data columns (total 2 columns):\n",
      " #   Column  Non-Null Count  Dtype\n",
      "---  ------  --------------  -----\n",
      " 0   Day     18979 non-null  int64\n",
      " 1   Year    18979 non-null  int64\n",
      "dtypes: int64(2)\n",
      "memory usage: 296.7 KB\n"
     ]
    }
   ],
   "source": [
    "df[['Day', 'Year']].info()"
   ]
  },
  {
   "cell_type": "code",
   "execution_count": 46,
   "id": "c94d7104-c398-450c-91dd-2a564c147bde",
   "metadata": {},
   "outputs": [
    {
     "name": "stdout",
     "output_type": "stream",
     "text": [
      "<class 'pandas.core.frame.DataFrame'>\n",
      "RangeIndex: 5 entries, 0 to 4\n",
      "Data columns (total 80 columns):\n",
      " #   Column            Non-Null Count  Dtype  \n",
      "---  ------            --------------  -----  \n",
      " 0   photoUrl          5 non-null      object \n",
      " 1   LongName          5 non-null      object \n",
      " 2   playerUrl         5 non-null      object \n",
      " 3   Nationality       5 non-null      object \n",
      " 4   Positions         5 non-null      object \n",
      " 5   Name              5 non-null      object \n",
      " 6   Age               5 non-null      int64  \n",
      " 7   ↓OVA              5 non-null      int64  \n",
      " 8   POT               5 non-null      int64  \n",
      " 9   Team & Contract   5 non-null      object \n",
      " 10  ID                5 non-null      int64  \n",
      " 11  Height            5 non-null      float64\n",
      " 12  Weight            5 non-null      int64  \n",
      " 13  foot              5 non-null      object \n",
      " 14  BOV               5 non-null      int64  \n",
      " 15  BP                5 non-null      object \n",
      " 16  Growth            5 non-null      int64  \n",
      " 17  Joined            5 non-null      object \n",
      " 18  Loan Date End     0 non-null      object \n",
      " 19  Value             5 non-null      object \n",
      " 20  Wage              5 non-null      object \n",
      " 21  Release Clause    5 non-null      object \n",
      " 22  Attacking         5 non-null      int64  \n",
      " 23  Crossing          5 non-null      int64  \n",
      " 24  Finishing         5 non-null      int64  \n",
      " 25  Heading Accuracy  5 non-null      int64  \n",
      " 26  Short Passing     5 non-null      int64  \n",
      " 27  Volleys           5 non-null      int64  \n",
      " 28  Skill             5 non-null      int64  \n",
      " 29  Dribbling         5 non-null      int64  \n",
      " 30  Curve             5 non-null      int64  \n",
      " 31  FK Accuracy       5 non-null      int64  \n",
      " 32  Long Passing      5 non-null      int64  \n",
      " 33  Ball Control      5 non-null      int64  \n",
      " 34  Movement          5 non-null      int64  \n",
      " 35  Acceleration      5 non-null      int64  \n",
      " 36  Sprint Speed      5 non-null      int64  \n",
      " 37  Agility           5 non-null      int64  \n",
      " 38  Reactions         5 non-null      int64  \n",
      " 39  Balance           5 non-null      int64  \n",
      " 40  Power             5 non-null      int64  \n",
      " 41  Shot Power        5 non-null      int64  \n",
      " 42  Jumping           5 non-null      int64  \n",
      " 43  Stamina           5 non-null      int64  \n",
      " 44  Strength          5 non-null      int64  \n",
      " 45  Long Shots        5 non-null      int64  \n",
      " 46  Mentality         5 non-null      int64  \n",
      " 47  Aggression        5 non-null      int64  \n",
      " 48  Interceptions     5 non-null      int64  \n",
      " 49  Positioning       5 non-null      int64  \n",
      " 50  Vision            5 non-null      int64  \n",
      " 51  Penalties         5 non-null      int64  \n",
      " 52  Composure         5 non-null      int64  \n",
      " 53  Defending         5 non-null      int64  \n",
      " 54  Marking           5 non-null      int64  \n",
      " 55  Standing Tackle   5 non-null      int64  \n",
      " 56  Sliding Tackle    5 non-null      int64  \n",
      " 57  Goalkeeping       5 non-null      int64  \n",
      " 58  GK Diving         5 non-null      int64  \n",
      " 59  GK Handling       5 non-null      int64  \n",
      " 60  GK Kicking        5 non-null      int64  \n",
      " 61  GK Positioning    5 non-null      int64  \n",
      " 62  GK Reflexes       5 non-null      int64  \n",
      " 63  Total Stats       5 non-null      int64  \n",
      " 64  Base Stats        5 non-null      int64  \n",
      " 65  W/F               5 non-null      object \n",
      " 66  SM                5 non-null      object \n",
      " 67  A/W               5 non-null      object \n",
      " 68  D/W               5 non-null      object \n",
      " 69  IR                5 non-null      object \n",
      " 70  PAC               5 non-null      int64  \n",
      " 71  SHO               5 non-null      int64  \n",
      " 72  PAS               5 non-null      int64  \n",
      " 73  DRI               5 non-null      int64  \n",
      " 74  DEF               5 non-null      int64  \n",
      " 75  PHY               5 non-null      int64  \n",
      " 76  Hits              5 non-null      object \n",
      " 77  Month             5 non-null      object \n",
      " 78  Day               5 non-null      int64  \n",
      " 79  Year              5 non-null      int64  \n",
      "dtypes: float64(1), int64(58), object(21)\n",
      "memory usage: 3.2+ KB\n"
     ]
    }
   ],
   "source": [
    "df.head().info()"
   ]
  },
  {
   "cell_type": "code",
   "execution_count": null,
   "id": "d95c282d-0c51-4d92-b2b6-36fff999837b",
   "metadata": {},
   "outputs": [],
   "source": []
  }
 ],
 "metadata": {
  "kernelspec": {
   "display_name": "Python 3 (ipykernel)",
   "language": "python",
   "name": "python3"
  },
  "language_info": {
   "codemirror_mode": {
    "name": "ipython",
    "version": 3
   },
   "file_extension": ".py",
   "mimetype": "text/x-python",
   "name": "python",
   "nbconvert_exporter": "python",
   "pygments_lexer": "ipython3",
   "version": "3.8.10"
  }
 },
 "nbformat": 4,
 "nbformat_minor": 5
}
